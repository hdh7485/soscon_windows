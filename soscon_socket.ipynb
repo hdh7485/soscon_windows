{
 "cells": [
  {
   "cell_type": "code",
   "execution_count": 1,
   "metadata": {},
   "outputs": [],
   "source": [
    "#from soscon.data.observation import Observation\n",
    "from IPython.display import clear_output\n",
    "import socket\n",
    "import sys\n",
    "from soscon.env import Env\n",
    "from soscon.status import Status\n",
    "import array\n",
    "\n",
    "import numpy as np\n",
    "import time\n",
    "import math\n",
    "\n",
    "import socket\n",
    "from _thread import *\n",
    "from threading import Thread\n",
    "\n",
    "class data_ob:\n",
    "    \n",
    "    def __init__(self):\n",
    "        self.env = Env()\n",
    "        self.env.on_observation = self.on_observation\n",
    "#         self.frame_rate = 20\n",
    "        self.delay = 0.05\n",
    "    \n",
    "    def on_observation(self, observation, status_code):\n",
    "#         self.ir = observation.ir\n",
    "#         self.encoder = observation.encoder\n",
    "        self.lidar = observation.lidar\n",
    "#         self.boundingbox = observation.boundingbox\n",
    "#         self.robot_location = observation.robot_location\n",
    "        self.delta = observation.delta\n",
    "        self.compass = observation.compass\n",
    "        \n",
    "class server_soc:\n",
    "    \n",
    "    def __init__(self, host, port):\n",
    "        self.sock = socket.socket(socket.AF_INET, socket.SOCK_STREAM)\n",
    "        self.server_address = (host, port)\n",
    "        self.sock.bind(self.server_address)\n",
    "        self.sock.listen(1)\n",
    "        \n",
    "    def connect(self):\n",
    "        self.connection, self.client_address = self.sock.accept()\n",
    "        print(sys.stderr, 'connecting from', self.client_address)\n",
    "\n",
    "def send_msg(connection, data):\n",
    "    while True:\n",
    "        x = data.lidar\n",
    "        x.append(data.delta.x)\n",
    "        x.append(data.delta.y)\n",
    "        x.append(data.compass)\n",
    "        connection.sendall(array.array('f', x))\n",
    "        time.sleep(data.delay)"
   ]
  },
  {
   "cell_type": "code",
   "execution_count": 2,
   "metadata": {
    "scrolled": true
   },
   "outputs": [
    {
     "name": "stdout",
     "output_type": "stream",
     "text": [
      "<ipykernel.iostream.OutStream object at 0x00000217EF6536D8> connecting from ('52.193.49.238', 45824)\n",
      "server connected\n",
      "thread on\n",
      "Status.SERVER_SHUT_DOWN\n",
      "Env is terminated\n"
     ]
    }
   ],
   "source": [
    "if __name__ == '__main__':\n",
    "\n",
    "    \n",
    "    try:\n",
    "        \n",
    "        test = server_soc('0.0.0.0',10004)\n",
    "        ureal = data_ob()\n",
    "        test.connect()\n",
    "        print(\"server connected\")\n",
    "\n",
    "    except Exception as e:\n",
    "        print(\"connection error\", e)\n",
    "        test.connection.close()\n",
    "        \n",
    "    try:   \n",
    "        start_new_thread(send_msg, (test.connection,ureal))\n",
    "        #start_new_thread(recv_msg, (test.connection,))\n",
    "        print(\"thread on\")\n",
    "\n",
    "    except Exception as e:\n",
    "        print(\"thread error\",e)\n",
    "        test.connection.close()\n"
   ]
  },
  {
   "cell_type": "code",
   "execution_count": null,
   "metadata": {},
   "outputs": [],
   "source": []
  }
 ],
 "metadata": {
  "kernelspec": {
   "display_name": "Python 3",
   "language": "python",
   "name": "python3"
  },
  "language_info": {
   "codemirror_mode": {
    "name": "ipython",
    "version": 3
   },
   "file_extension": ".py",
   "mimetype": "text/x-python",
   "name": "python",
   "nbconvert_exporter": "python",
   "pygments_lexer": "ipython3",
   "version": "3.6.6"
  }
 },
 "nbformat": 4,
 "nbformat_minor": 2
}
